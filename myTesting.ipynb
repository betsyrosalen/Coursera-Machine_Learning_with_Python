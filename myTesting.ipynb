{
 "cells": [
  {
   "cell_type": "markdown",
   "metadata": {},
   "source": [
    "This is for testing some of the stuff in the ML course"
   ]
  },
  {
   "cell_type": "code",
   "execution_count": 1,
   "metadata": {},
   "outputs": [],
   "source": [
    "import matplotlib.pyplot as plt\n",
    "import pandas as pd\n",
    "import pylab as pl\n",
    "import numpy as np\n",
    "%matplotlib inline"
   ]
  },
  {
   "cell_type": "code",
   "execution_count": 2,
   "metadata": {},
   "outputs": [
    {
     "name": "stdout",
     "output_type": "stream",
     "text": [
      "Type of df: <class 'pandas.core.frame.DataFrame'>\n",
      "Should be 10:  10\n"
     ]
    },
    {
     "data": {
      "text/html": [
       "<div>\n",
       "<style scoped>\n",
       "    .dataframe tbody tr th:only-of-type {\n",
       "        vertical-align: middle;\n",
       "    }\n",
       "\n",
       "    .dataframe tbody tr th {\n",
       "        vertical-align: top;\n",
       "    }\n",
       "\n",
       "    .dataframe thead th {\n",
       "        text-align: right;\n",
       "    }\n",
       "</style>\n",
       "<table border=\"1\" class=\"dataframe\">\n",
       "  <thead>\n",
       "    <tr style=\"text-align: right;\">\n",
       "      <th></th>\n",
       "      <th>X</th>\n",
       "      <th>Y</th>\n",
       "    </tr>\n",
       "  </thead>\n",
       "  <tbody>\n",
       "    <tr>\n",
       "      <th>0</th>\n",
       "      <td>2</td>\n",
       "      <td>6</td>\n",
       "    </tr>\n",
       "    <tr>\n",
       "      <th>1</th>\n",
       "      <td>6</td>\n",
       "      <td>6</td>\n",
       "    </tr>\n",
       "    <tr>\n",
       "      <th>2</th>\n",
       "      <td>4</td>\n",
       "      <td>5</td>\n",
       "    </tr>\n",
       "    <tr>\n",
       "      <th>3</th>\n",
       "      <td>5</td>\n",
       "      <td>3</td>\n",
       "    </tr>\n",
       "    <tr>\n",
       "      <th>4</th>\n",
       "      <td>4</td>\n",
       "      <td>1</td>\n",
       "    </tr>\n",
       "    <tr>\n",
       "      <th>5</th>\n",
       "      <td>7</td>\n",
       "      <td>4</td>\n",
       "    </tr>\n",
       "    <tr>\n",
       "      <th>6</th>\n",
       "      <td>1</td>\n",
       "      <td>2</td>\n",
       "    </tr>\n",
       "    <tr>\n",
       "      <th>7</th>\n",
       "      <td>4</td>\n",
       "      <td>7</td>\n",
       "    </tr>\n",
       "    <tr>\n",
       "      <th>8</th>\n",
       "      <td>8</td>\n",
       "      <td>1</td>\n",
       "    </tr>\n",
       "    <tr>\n",
       "      <th>9</th>\n",
       "      <td>2</td>\n",
       "      <td>6</td>\n",
       "    </tr>\n",
       "  </tbody>\n",
       "</table>\n",
       "</div>"
      ],
      "text/plain": [
       "   X  Y\n",
       "0  2  6\n",
       "1  6  6\n",
       "2  4  5\n",
       "3  5  3\n",
       "4  4  1\n",
       "5  7  4\n",
       "6  1  2\n",
       "7  4  7\n",
       "8  8  1\n",
       "9  2  6"
      ]
     },
     "execution_count": 2,
     "metadata": {},
     "output_type": "execute_result"
    }
   ],
   "source": [
    "df = pd.read_csv(\"testCSV.csv\") # a \"data frame\"\n",
    "print(\"Type of df:\", type(df))\n",
    "print(\"Should be 10: \", len(df))\n",
    "df.head(10)"
   ]
  },
  {
   "cell_type": "code",
   "execution_count": 3,
   "metadata": {},
   "outputs": [
    {
     "data": {
      "image/png": "[encoded data removed]",
      "text/plain": [
       "<Figure size 432x288 with 2 Axes>"
      ]
     },
     "metadata": {
      "needs_background": "light"
     },
     "output_type": "display_data"
    }
   ],
   "source": [
    "df.hist()\n",
    "plt.show()"
   ]
  },
  {
   "cell_type": "code",
   "execution_count": 4,
   "metadata": {},
   "outputs": [
    {
     "data": {
      "image/png": "[encoded data removed]",
      "text/plain": [
       "<Figure size 432x288 with 1 Axes>"
      ]
     },
     "metadata": {
      "needs_background": "light"
     },
     "output_type": "display_data"
    }
   ],
   "source": [
    "plt.scatter(df.X, df.Y,  color='blue')\n",
    "plt.xlabel(\"X\")\n",
    "plt.ylabel(\"Y\")\n",
    "plt.show()"
   ]
  },
  {
   "cell_type": "code",
   "execution_count": 5,
   "metadata": {},
   "outputs": [
    {
     "name": "stdout",
     "output_type": "stream",
     "text": [
      "[0.91320926 0.84603665 0.72070962]\n",
      "[0.64971959 0.36379171 0.27542962]\n",
      "[0.47299998 0.29847829 0.9589052 ]\n",
      "[0.14257391 0.35730141 0.9347478 ]\n",
      "[0.11081325 0.61603517 0.52263353]\n"
     ]
    }
   ],
   "source": [
    "for i in range(5):\n",
    "    print(np.random.rand(3)) # use of rand <- array length is input"
   ]
  },
  {
   "cell_type": "code",
   "execution_count": 6,
   "metadata": {},
   "outputs": [
    {
     "name": "stdout",
     "output_type": "stream",
     "text": [
      "Type of list_object: <class 'list'>\n",
      "Type of numpy_ndarray: <class 'numpy.ndarray'>\n",
      "Type of the np.random.rand(3): <class 'numpy.ndarray'>\n",
      "Values in numpy_ndarray: [3 9 2 7]\n",
      "Result of numpy_ndarray < 5: [ True False  True False]\n"
     ]
    }
   ],
   "source": [
    "list_object = [3,9,2,7]\n",
    "numpy_ndarray = np.array(list_object)\n",
    "print(\"Type of list_object:\", type(list_object))\n",
    "print(\"Type of numpy_ndarray:\", type(numpy_ndarray))\n",
    "print(\"Type of the np.random.rand(3):\", type(np.random.rand(3)) )\n",
    "print(\"Values in numpy_ndarray:\", numpy_ndarray)\n",
    "print(\"Result of numpy_ndarray < 5:\", numpy_ndarray < 5)"
   ]
  },
  {
   "cell_type": "code",
   "execution_count": 7,
   "metadata": {},
   "outputs": [
    {
     "name": "stdout",
     "output_type": "stream",
     "text": [
      "Opposite:  [False False  True False  True  True  True  True  True  True]\n",
      "Type of short_df (notice also DataFrame):  <class 'pandas.core.frame.DataFrame'>\n"
     ]
    },
    {
     "data": {
      "text/html": [
       "<div>\n",
       "<style scoped>\n",
       "    .dataframe tbody tr th:only-of-type {\n",
       "        vertical-align: middle;\n",
       "    }\n",
       "\n",
       "    .dataframe tbody tr th {\n",
       "        vertical-align: top;\n",
       "    }\n",
       "\n",
       "    .dataframe thead th {\n",
       "        text-align: right;\n",
       "    }\n",
       "</style>\n",
       "<table border=\"1\" class=\"dataframe\">\n",
       "  <thead>\n",
       "    <tr style=\"text-align: right;\">\n",
       "      <th></th>\n",
       "      <th>X</th>\n",
       "      <th>Y</th>\n",
       "    </tr>\n",
       "  </thead>\n",
       "  <tbody>\n",
       "    <tr>\n",
       "      <th>0</th>\n",
       "      <td>2</td>\n",
       "      <td>6</td>\n",
       "    </tr>\n",
       "    <tr>\n",
       "      <th>1</th>\n",
       "      <td>6</td>\n",
       "      <td>6</td>\n",
       "    </tr>\n",
       "    <tr>\n",
       "      <th>3</th>\n",
       "      <td>5</td>\n",
       "      <td>3</td>\n",
       "    </tr>\n",
       "  </tbody>\n",
       "</table>\n",
       "</div>"
      ],
      "text/plain": [
       "   X  Y\n",
       "0  2  6\n",
       "1  6  6\n",
       "3  5  3"
      ]
     },
     "execution_count": 7,
     "metadata": {},
     "output_type": "execute_result"
    }
   ],
   "source": [
    "fixed_msk = np.array([True,True,False,True,False,False,False,False,False,False])\n",
    "opposite = ~fixed_msk\n",
    "print(\"Opposite: \", opposite)\n",
    "short_df = df[fixed_msk] \n",
    "print(\"Type of short_df (notice also DataFrame): \", type(short_df))\n",
    "short_df.head()"
   ]
  },
  {
   "cell_type": "code",
   "execution_count": 8,
   "metadata": {},
   "outputs": [
    {
     "name": "stdout",
     "output_type": "stream",
     "text": [
      "Can see mask choosing train and test\n",
      "[ True  True  True False  True  True  True False False False]\n",
      "   X  Y\n",
      "0  2  6\n",
      "1  6  6\n",
      "2  4  5\n",
      "4  4  1\n",
      "5  7  4\n",
      "6  1  2\n",
      "\n",
      "   X  Y\n",
      "3  5  3\n",
      "7  4  7\n",
      "8  8  1\n",
      "9  2  6\n"
     ]
    }
   ],
   "source": [
    "msk = np.random.rand(len(df)) < 0.7\n",
    "train = df[msk]\n",
    "test = df[~msk]\n",
    "print(\"Can see mask choosing train and test\")\n",
    "print(msk)\n",
    "print(train)\n",
    "print()\n",
    "print(test)"
   ]
  },
  {
   "cell_type": "code",
   "execution_count": 9,
   "metadata": {},
   "outputs": [
    {
     "data": {
      "text/html": [
       "<div>\n",
       "<style scoped>\n",
       "    .dataframe tbody tr th:only-of-type {\n",
       "        vertical-align: middle;\n",
       "    }\n",
       "\n",
       "    .dataframe tbody tr th {\n",
       "        vertical-align: top;\n",
       "    }\n",
       "\n",
       "    .dataframe thead th {\n",
       "        text-align: right;\n",
       "    }\n",
       "</style>\n",
       "<table border=\"1\" class=\"dataframe\">\n",
       "  <thead>\n",
       "    <tr style=\"text-align: right;\">\n",
       "      <th></th>\n",
       "      <th>X</th>\n",
       "    </tr>\n",
       "  </thead>\n",
       "  <tbody>\n",
       "    <tr>\n",
       "      <th>0</th>\n",
       "      <td>2</td>\n",
       "    </tr>\n",
       "    <tr>\n",
       "      <th>1</th>\n",
       "      <td>6</td>\n",
       "    </tr>\n",
       "    <tr>\n",
       "      <th>2</th>\n",
       "      <td>4</td>\n",
       "    </tr>\n",
       "    <tr>\n",
       "      <th>4</th>\n",
       "      <td>4</td>\n",
       "    </tr>\n",
       "    <tr>\n",
       "      <th>5</th>\n",
       "      <td>7</td>\n",
       "    </tr>\n",
       "    <tr>\n",
       "      <th>6</th>\n",
       "      <td>1</td>\n",
       "    </tr>\n",
       "  </tbody>\n",
       "</table>\n",
       "</div>"
      ],
      "text/plain": [
       "   X\n",
       "0  2\n",
       "1  6\n",
       "2  4\n",
       "4  4\n",
       "5  7\n",
       "6  1"
      ]
     },
     "execution_count": 9,
     "metadata": {},
     "output_type": "execute_result"
    }
   ],
   "source": [
    "train[['X']] # select appropriate data - note: need double bracket"
   ]
  },
  {
   "cell_type": "code",
   "execution_count": 10,
   "metadata": {},
   "outputs": [
    {
     "name": "stdout",
     "output_type": "stream",
     "text": [
      "Starts as: <class 'pandas.core.frame.DataFrame'>\n",
      "Converted to: <class 'numpy.ndarray'>\n",
      "Dimension of train_x (6, 1)\n",
      "Dimension of test_x (4, 1)\n",
      "[[2]\n",
      " [6]\n",
      " [4]\n",
      " [4]\n",
      " [7]\n",
      " [1]]\n",
      "\n",
      "[[ 5]\n",
      " [13]\n",
      " [ 9]\n",
      " [ 9]\n",
      " [15]\n",
      " [ 3]]\n"
     ]
    }
   ],
   "source": [
    "# these lines just convert data frames to numpy arrays for use in sklearn regression.\n",
    "# (even though it seems that at times sklearn can handle data frames)\n",
    "\n",
    "train_x = np.asanyarray(train[['X']]) \n",
    "test_x = np.asanyarray(test[['X']]) \n",
    "print(\"Starts as:\", type(train[['X']]) )\n",
    "print(\"Converted to:\", type(train_x) )\n",
    "\n",
    "train_y = np.asanyarray(train[['Y']])\n",
    "test_y = np.asanyarray(test[['Y']])\n",
    "\n",
    "print(\"Dimension of train_x\", train_x.shape)\n",
    "print(\"Dimension of test_x\", test_x.shape)\n",
    "\n",
    "\n",
    "# Can do operations to numpy array that apply to all numbers in array\n",
    "print(train_x)\n",
    "print()\n",
    "print(2*train_x + 1)"
   ]
  },
  {
   "cell_type": "code",
   "execution_count": 11,
   "metadata": {},
   "outputs": [
    {
     "name": "stdout",
     "output_type": "stream",
     "text": [
      "Coefficients:  [[0.23076923]] of type: <class 'numpy.ndarray'>\n",
      "Intercept:  [3.07692308] of type: <class 'numpy.ndarray'>\n",
      "Coefficient as number:  0.23076923076923075 of type: <class 'numpy.float64'>\n",
      "Intercept as number:  3.076923076923077 of type: <class 'numpy.float64'>\n"
     ]
    }
   ],
   "source": [
    "# The regression step\n",
    "from sklearn import linear_model\n",
    "regr = linear_model.LinearRegression()\n",
    "regr.fit(train_x, train_y)\n",
    "# After the last line the model is set and we can extract info.\n",
    "\n",
    "coefs = regr.coef_\n",
    "intercept = regr.intercept_\n",
    "print ('Coefficients: ', coefs, \"of type:\", type(coefs))\n",
    "print ('Intercept: ', intercept, \"of type:\", type(intercept))\n",
    "\n",
    "coef_as_num = coefs[0][0]\n",
    "intercept_as_num = intercept[0]\n",
    "print ('Coefficient as number: ', coef_as_num, \"of type:\", type(coef_as_num))\n",
    "print ('Intercept as number: ', intercept_as_num, \"of type:\", type(intercept_as_num))\n"
   ]
  },
  {
   "cell_type": "code",
   "execution_count": 12,
   "metadata": {},
   "outputs": [
    {
     "data": {
      "text/plain": [
       "Text(0, 0.5, 'Y')"
      ]
     },
     "execution_count": 12,
     "metadata": {},
     "output_type": "execute_result"
    },
    {
     "data": {
      "image/png": "[encoded data removed]",
      "text/plain": [
       "<Figure size 432x288 with 1 Axes>"
      ]
     },
     "metadata": {
      "needs_background": "light"
     },
     "output_type": "display_data"
    }
   ],
   "source": [
    "plt.scatter(train.X, train.Y,  color='blue')\n",
    "plt.plot(train_x, coef_as_num*train_x + intercept_as_num, '-r')\n",
    "plt.xlabel(\"X\")\n",
    "plt.ylabel(\"Y\")"
   ]
  },
  {
   "cell_type": "code",
   "execution_count": 13,
   "metadata": {},
   "outputs": [
    {
     "data": {
      "text/plain": [
       "Text(0, 0.5, 'Y')"
      ]
     },
     "execution_count": 13,
     "metadata": {},
     "output_type": "execute_result"
    },
    {
     "data": {
      "image/png": "[encoded data removed]",
      "text/plain": [
       "<Figure size 432x288 with 1 Axes>"
      ]
     },
     "metadata": {
      "needs_background": "light"
     },
     "output_type": "display_data"
    }
   ],
   "source": [
    "# To plot more involved function could make separate function\n",
    "def yValsOfLine(x_values, slope, yIntercept):\n",
    "    return slope*x_values + yIntercept\n",
    "\n",
    "plt.plot(train_x, yValsOfLine(train_x, coef_as_num, intercept_as_num), '-r')\n",
    "plt.xlabel(\"X\")\n",
    "plt.ylabel(\"Y\")"
   ]
  },
  {
   "cell_type": "code",
   "execution_count": 14,
   "metadata": {},
   "outputs": [
    {
     "name": "stdout",
     "output_type": "stream",
     "text": [
      "Model predicts that on input X = 10, Y = [[5.38461538]]\n",
      "This should be the same: 5.384615384615385\n"
     ]
    },
    {
     "data": {
      "text/plain": [
       "'\\nI suppose because typically taken from data frames, which give 2D no matter\\nthe number of explanatory variables.\\n'"
      ]
     },
     "execution_count": 14,
     "metadata": {},
     "output_type": "execute_result"
    }
   ],
   "source": [
    "# Now that we have the model, stored in regr object we can \"predict\",\n",
    "# that is from input explanatory variable(s) get response variables.\n",
    "# Do this for 1) Just using the model.\n",
    "#             2) Evaluating model on test values.\n",
    "\n",
    "# Notice that predict expects 2-dimensional array\n",
    "print(\"Model predicts that on input X = 10, Y =\", regr.predict([[10]]))\n",
    "print(\"This should be the same:\", coef_as_num*10 + intercept_as_num)\n",
    "\n",
    "# Reason for 2-D array? ...\n",
    "'''\n",
    "I suppose because typically taken from data frames, which give 2D no matter\n",
    "the number of explanatory variables.\n",
    "'''"
   ]
  },
  {
   "cell_type": "code",
   "execution_count": 15,
   "metadata": {},
   "outputs": [
    {
     "data": {
      "text/plain": [
       "Text(0, 0.5, 'Y')"
      ]
     },
     "execution_count": 15,
     "metadata": {},
     "output_type": "execute_result"
    },
    {
     "data": {
      "image/png": "[encoded data removed]",
      "text/plain": [
       "<Figure size 432x288 with 1 Axes>"
      ]
     },
     "metadata": {
      "needs_background": "light"
     },
     "output_type": "display_data"
    }
   ],
   "source": [
    "# Use the predict as another way to plot the model (seems more natural?)\n",
    "plt.plot(train_x, regr.predict(train_x), '-r')\n",
    "plt.xlabel(\"X\")\n",
    "plt.ylabel(\"Y\")"
   ]
  },
  {
   "cell_type": "code",
   "execution_count": 16,
   "metadata": {},
   "outputs": [
    {
     "name": "stdout",
     "output_type": "stream",
     "text": [
      "Mean absolute error: 2.6538461538461537\n",
      "Residual sum of squares (MSE): 7.99\n"
     ]
    }
   ],
   "source": [
    "# Finally, use predict to evaluate the model\n",
    "\n",
    "y_hat_values = regr.predict(test_x)\n",
    "\n",
    "print(\"Mean absolute error:\", np.mean(np.absolute(test_y - y_hat_values)))\n",
    "print(\"Residual sum of squares (MSE): %.2f\" % np.mean((test_y - y_hat_values) ** 2))\n"
   ]
  },
  {
   "cell_type": "code",
   "execution_count": 17,
   "metadata": {},
   "outputs": [
    {
     "name": "stdout",
     "output_type": "stream",
     "text": [
      "R2-score: -0.40503283698549986\n"
     ]
    }
   ],
   "source": [
    "# Other metrics\n",
    "from sklearn.metrics import r2_score\n",
    "print(\"R2-score:\", r2_score(test_y , y_hat_values) )"
   ]
  },
  {
   "cell_type": "code",
   "execution_count": null,
   "metadata": {},
   "outputs": [],
   "source": []
  }
 ],
 "metadata": {
  "kernelspec": {
   "display_name": "Python 3",
   "language": "python",
   "name": "python3"
  },
  "language_info": {
   "codemirror_mode": {
    "name": "ipython",
    "version": 3
   },
   "file_extension": ".py",
   "mimetype": "text/x-python",
   "name": "python",
   "nbconvert_exporter": "python",
   "pygments_lexer": "ipython3",
   "version": "3.7.6"
  }
 },
 "nbformat": 4,
 "nbformat_minor": 4
}
