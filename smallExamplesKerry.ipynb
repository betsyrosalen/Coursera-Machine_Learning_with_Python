{
 "cells": [
  {
   "cell_type": "markdown",
   "metadata": {},
   "source": [
    "# Week 3 - Some Technical Points on Normalization"
   ]
  },
  {
   "cell_type": "code",
   "execution_count": 1,
   "metadata": {},
   "outputs": [],
   "source": [
    "import numpy as np\n",
    "import matplotlib.pyplot as plt\n",
    "import pandas as pd\n",
    "from sklearn import preprocessing\n",
    "%matplotlib inline"
   ]
  },
  {
   "cell_type": "markdown",
   "metadata": {},
   "source": [
    "Points below:\n",
    "- Make your own Data Frame from scratch\n",
    "- Normalization done in clearer manner (I hope!)"
   ]
  },
  {
   "cell_type": "code",
   "execution_count": 2,
   "metadata": {},
   "outputs": [
    {
     "name": "stdout",
     "output_type": "stream",
     "text": [
      "Empty DataFrame\n",
      "Columns: []\n",
      "Index: []\n",
      "\n",
      "<class 'pandas.core.frame.DataFrame'>\n",
      "\n",
      "   Humility  Power  Coolness\n",
      "0         2     10         1\n",
      "1         2     20         2\n",
      "2         2     15         3\n"
     ]
    }
   ],
   "source": [
    "df = pd.DataFrame() \n",
    "print(df) \n",
    "print()\n",
    "print(type(df))\n",
    "  \n",
    "# append columns to an empty DataFrame \n",
    "df['Humility'] = [2, 2 , 2] \n",
    "df['Power'] = [10, 20, 15] \n",
    "df['Coolness'] = [1, 2, 3]\n",
    "\n",
    "#df.head() <-- or this for display\n",
    "print()\n",
    "print(df)"
   ]
  },
  {
   "cell_type": "code",
   "execution_count": 3,
   "metadata": {},
   "outputs": [
    {
     "name": "stdout",
     "output_type": "stream",
     "text": [
      "Required 2D for normalization: (3, 3)\n",
      "\n",
      "[[ 2 10  1]\n",
      " [ 2 20  2]\n",
      " [ 2 15  3]]\n"
     ]
    }
   ],
   "source": [
    "asArray = df.values  # gets values of Data Frame into ndArray (other ways too? Why this way here?)\n",
    "print(\"Required 2D for normalization:\", asArray.shape)\n",
    "print()\n",
    "print(asArray)"
   ]
  },
  {
   "cell_type": "code",
   "execution_count": 4,
   "metadata": {},
   "outputs": [
    {
     "name": "stdout",
     "output_type": "stream",
     "text": [
      "MEANs: [ 2. 15.  2.]\n",
      "SDs: [0.         4.0824829  0.81649658]\n"
     ]
    }
   ],
   "source": [
    "pre = preprocessing.StandardScaler() # now an empty StandardScalar object\n",
    "# Since it is empty right now, note how the next lines would give errors if uncommented\n",
    "#print(pre.mean_) \n",
    "#print(np.sqrt(pre.var_))\n",
    "\n",
    "# Now we set the data inside pre using our ndArray\n",
    "# Note: The course puts as \"asArray(float)\"\"; perhaps to force to float if not? \n",
    "pre.fit(asArray)\n",
    "\n",
    "# Now that fit to data, we can get the mean and standard deviation of each column\n",
    "print(\"MEANs:\", pre.mean_)  \n",
    "print(\"SDs:\", np.sqrt(pre.var_))"
   ]
  },
  {
   "cell_type": "code",
   "execution_count": 5,
   "metadata": {},
   "outputs": [
    {
     "data": {
      "text/plain": [
       "array([[ 0.        , -1.22474487, -1.22474487],\n",
       "       [ 0.        ,  1.22474487,  0.        ],\n",
       "       [ 0.        ,  0.        ,  1.22474487]])"
      ]
     },
     "execution_count": 5,
     "metadata": {},
     "output_type": "execute_result"
    }
   ],
   "source": [
    "# can input any ndArray of correct dimnsions to transform:\n",
    "# - Does NOT change the inputed array\n",
    "# - Outputs so each column is normalized according to the stored data\n",
    "# - Does usual z-score operation\n",
    "pre.transform(asArray)"
   ]
  },
  {
   "cell_type": "code",
   "execution_count": 6,
   "metadata": {},
   "outputs": [
    {
     "name": "stdout",
     "output_type": "stream",
     "text": [
      "[[ 2 10  1]\n",
      " [ 2 20  2]\n",
      " [ 2 15  3]]\n"
     ]
    }
   ],
   "source": [
    "print(asArray) # Note that the ndarray is NOT changed"
   ]
  },
  {
   "cell_type": "code",
   "execution_count": 7,
   "metadata": {},
   "outputs": [
    {
     "name": "stdout",
     "output_type": "stream",
     "text": [
      "[[2 0 1]]\n",
      "[[ 0.         -3.67423461 -1.22474487]]\n"
     ]
    }
   ],
   "source": [
    "# Example of sending a different array to transform\n",
    "anotherArray = np.array([[2, 0, 1]])\n",
    "print(anotherArray)\n",
    "print(pre.transform(anotherArray))"
   ]
  },
  {
   "cell_type": "markdown",
   "metadata": {},
   "source": [
    "One line approach in the course."
   ]
  },
  {
   "cell_type": "code",
   "execution_count": 8,
   "metadata": {},
   "outputs": [
    {
     "data": {
      "text/plain": [
       "array([[ 0.        , -1.22474487, -1.22474487],\n",
       "       [ 0.        ,  1.22474487,  0.        ],\n",
       "       [ 0.        ,  0.        ,  1.22474487]])"
      ]
     },
     "execution_count": 8,
     "metadata": {},
     "output_type": "execute_result"
    }
   ],
   "source": [
    "# Doing it like in the course with one line\n",
    "# Note that it is the same as the above multi-line approach.\n",
    "normArray = preprocessing.StandardScaler().fit(asArray).transform(asArray.astype(float))\n",
    "normArray"
   ]
  }
 ],
 "metadata": {
  "kernelspec": {
   "display_name": "Python 3",
   "language": "python",
   "name": "python3"
  },
  "language_info": {
   "codemirror_mode": {
    "name": "ipython",
    "version": 3
   },
   "file_extension": ".py",
   "mimetype": "text/x-python",
   "name": "python",
   "nbconvert_exporter": "python",
   "pygments_lexer": "ipython3",
   "version": "3.7.6"
  }
 },
 "nbformat": 4,
 "nbformat_minor": 4
}
