{
 "cells": [
  {
   "cell_type": "markdown",
   "metadata": {},
   "source": [
    "# Practicing some of week 5 syntax"
   ]
  },
  {
   "cell_type": "markdown",
   "metadata": {},
   "source": [
    "First for the first lab"
   ]
  },
  {
   "cell_type": "code",
   "execution_count": 1,
   "metadata": {},
   "outputs": [],
   "source": [
    "#Dataframe manipulation library\n",
    "import pandas as pd\n",
    "#Math functions, we'll only need the sqrt function so let's import only that\n",
    "from math import sqrt\n",
    "import numpy as np\n",
    "import matplotlib.pyplot as plt\n",
    "%matplotlib inline"
   ]
  },
  {
   "cell_type": "code",
   "execution_count": 2,
   "metadata": {},
   "outputs": [],
   "source": [
    "# Create a dictionary\n",
    "D = {\n",
    "        \"A\": 1.0,\n",
    "        \"B\": [['x', 'y'], ['x', 'z'], ['x', 'z', 'y']],\n",
    "        \"C\": np.array([3] * 3),\n",
    "        \"D\": pd.Categorical([\"test (2018)\", \"train (2019)\", \"test (2018)\"]),\n",
    "        \"E\": \"foo\",\n",
    "    }"
   ]
  },
  {
   "cell_type": "code",
   "execution_count": 3,
   "metadata": {},
   "outputs": [
    {
     "data": {
      "text/html": [
       "<div>\n",
       "<style scoped>\n",
       "    .dataframe tbody tr th:only-of-type {\n",
       "        vertical-align: middle;\n",
       "    }\n",
       "\n",
       "    .dataframe tbody tr th {\n",
       "        vertical-align: top;\n",
       "    }\n",
       "\n",
       "    .dataframe thead th {\n",
       "        text-align: right;\n",
       "    }\n",
       "</style>\n",
       "<table border=\"1\" class=\"dataframe\">\n",
       "  <thead>\n",
       "    <tr style=\"text-align: right;\">\n",
       "      <th></th>\n",
       "      <th>A</th>\n",
       "      <th>B</th>\n",
       "      <th>C</th>\n",
       "      <th>D</th>\n",
       "      <th>E</th>\n",
       "    </tr>\n",
       "  </thead>\n",
       "  <tbody>\n",
       "    <tr>\n",
       "      <th>0</th>\n",
       "      <td>1.0</td>\n",
       "      <td>[x, y]</td>\n",
       "      <td>3</td>\n",
       "      <td>test (2018)</td>\n",
       "      <td>foo</td>\n",
       "    </tr>\n",
       "    <tr>\n",
       "      <th>1</th>\n",
       "      <td>1.0</td>\n",
       "      <td>[x, z]</td>\n",
       "      <td>3</td>\n",
       "      <td>train (2019)</td>\n",
       "      <td>foo</td>\n",
       "    </tr>\n",
       "    <tr>\n",
       "      <th>2</th>\n",
       "      <td>1.0</td>\n",
       "      <td>[x, z, y]</td>\n",
       "      <td>3</td>\n",
       "      <td>test (2018)</td>\n",
       "      <td>foo</td>\n",
       "    </tr>\n",
       "  </tbody>\n",
       "</table>\n",
       "</div>"
      ],
      "text/plain": [
       "     A          B  C             D    E\n",
       "0  1.0     [x, y]  3   test (2018)  foo\n",
       "1  1.0     [x, z]  3  train (2019)  foo\n",
       "2  1.0  [x, z, y]  3   test (2018)  foo"
      ]
     },
     "execution_count": 3,
     "metadata": {},
     "output_type": "execute_result"
    }
   ],
   "source": [
    "df = pd.DataFrame(D) \n",
    "df"
   ]
  },
  {
   "cell_type": "code",
   "execution_count": 4,
   "metadata": {},
   "outputs": [
    {
     "data": {
      "text/plain": [
       "0    (2018)\n",
       "1    (2019)\n",
       "2    (2018)\n",
       "Name: D, dtype: object"
      ]
     },
     "execution_count": 4,
     "metadata": {},
     "output_type": "execute_result"
    }
   ],
   "source": [
    "newCol = df.D.str.extract('(\\(\\d\\d\\d\\d\\))', expand=False)\n",
    "#newCol = df.D.str.extract('(\\d)') <-- for example to get first digit, always 2\n",
    "newCol"
   ]
  },
  {
   "cell_type": "code",
   "execution_count": 5,
   "metadata": {},
   "outputs": [
    {
     "data": {
      "text/html": [
       "<div>\n",
       "<style scoped>\n",
       "    .dataframe tbody tr th:only-of-type {\n",
       "        vertical-align: middle;\n",
       "    }\n",
       "\n",
       "    .dataframe tbody tr th {\n",
       "        vertical-align: top;\n",
       "    }\n",
       "\n",
       "    .dataframe thead th {\n",
       "        text-align: right;\n",
       "    }\n",
       "</style>\n",
       "<table border=\"1\" class=\"dataframe\">\n",
       "  <thead>\n",
       "    <tr style=\"text-align: right;\">\n",
       "      <th></th>\n",
       "      <th>A</th>\n",
       "      <th>B</th>\n",
       "      <th>C</th>\n",
       "      <th>D</th>\n",
       "      <th>E</th>\n",
       "      <th>year</th>\n",
       "    </tr>\n",
       "  </thead>\n",
       "  <tbody>\n",
       "    <tr>\n",
       "      <th>0</th>\n",
       "      <td>1.0</td>\n",
       "      <td>[x, y]</td>\n",
       "      <td>3</td>\n",
       "      <td>test (2018)</td>\n",
       "      <td>foo</td>\n",
       "      <td>(2018)</td>\n",
       "    </tr>\n",
       "    <tr>\n",
       "      <th>1</th>\n",
       "      <td>1.0</td>\n",
       "      <td>[x, z]</td>\n",
       "      <td>3</td>\n",
       "      <td>train (2019)</td>\n",
       "      <td>foo</td>\n",
       "      <td>(2019)</td>\n",
       "    </tr>\n",
       "    <tr>\n",
       "      <th>2</th>\n",
       "      <td>1.0</td>\n",
       "      <td>[x, z, y]</td>\n",
       "      <td>3</td>\n",
       "      <td>test (2018)</td>\n",
       "      <td>foo</td>\n",
       "      <td>(2018)</td>\n",
       "    </tr>\n",
       "  </tbody>\n",
       "</table>\n",
       "</div>"
      ],
      "text/plain": [
       "     A          B  C             D    E    year\n",
       "0  1.0     [x, y]  3   test (2018)  foo  (2018)\n",
       "1  1.0     [x, z]  3  train (2019)  foo  (2019)\n",
       "2  1.0  [x, z, y]  3   test (2018)  foo  (2018)"
      ]
     },
     "execution_count": 5,
     "metadata": {},
     "output_type": "execute_result"
    }
   ],
   "source": [
    "df['year'] = newCol\n",
    "df    "
   ]
  },
  {
   "cell_type": "code",
   "execution_count": 6,
   "metadata": {},
   "outputs": [
    {
     "data": {
      "text/html": [
       "<div>\n",
       "<style scoped>\n",
       "    .dataframe tbody tr th:only-of-type {\n",
       "        vertical-align: middle;\n",
       "    }\n",
       "\n",
       "    .dataframe tbody tr th {\n",
       "        vertical-align: top;\n",
       "    }\n",
       "\n",
       "    .dataframe thead th {\n",
       "        text-align: right;\n",
       "    }\n",
       "</style>\n",
       "<table border=\"1\" class=\"dataframe\">\n",
       "  <thead>\n",
       "    <tr style=\"text-align: right;\">\n",
       "      <th></th>\n",
       "      <th>A</th>\n",
       "      <th>B</th>\n",
       "      <th>C</th>\n",
       "      <th>D</th>\n",
       "      <th>E</th>\n",
       "      <th>year</th>\n",
       "    </tr>\n",
       "  </thead>\n",
       "  <tbody>\n",
       "    <tr>\n",
       "      <th>0</th>\n",
       "      <td>1.0</td>\n",
       "      <td>[x, y]</td>\n",
       "      <td>3</td>\n",
       "      <td>test (2018)</td>\n",
       "      <td>foo</td>\n",
       "      <td>2018</td>\n",
       "    </tr>\n",
       "    <tr>\n",
       "      <th>1</th>\n",
       "      <td>1.0</td>\n",
       "      <td>[x, z]</td>\n",
       "      <td>3</td>\n",
       "      <td>train (2019)</td>\n",
       "      <td>foo</td>\n",
       "      <td>2019</td>\n",
       "    </tr>\n",
       "    <tr>\n",
       "      <th>2</th>\n",
       "      <td>1.0</td>\n",
       "      <td>[x, z, y]</td>\n",
       "      <td>3</td>\n",
       "      <td>test (2018)</td>\n",
       "      <td>foo</td>\n",
       "      <td>2018</td>\n",
       "    </tr>\n",
       "  </tbody>\n",
       "</table>\n",
       "</div>"
      ],
      "text/plain": [
       "     A          B  C             D    E  year\n",
       "0  1.0     [x, y]  3   test (2018)  foo  2018\n",
       "1  1.0     [x, z]  3  train (2019)  foo  2019\n",
       "2  1.0  [x, z, y]  3   test (2018)  foo  2018"
      ]
     },
     "execution_count": 6,
     "metadata": {},
     "output_type": "execute_result"
    }
   ],
   "source": [
    "df['year'] = df.year.str.extract('(\\d\\d\\d\\d)', expand=False)\n",
    "df"
   ]
  },
  {
   "cell_type": "code",
   "execution_count": 7,
   "metadata": {},
   "outputs": [
    {
     "data": {
      "text/plain": [
       "0     test HELLO\n",
       "1    train HELLO\n",
       "2     test HELLO\n",
       "Name: D, dtype: object"
      ]
     },
     "execution_count": 7,
     "metadata": {},
     "output_type": "execute_result"
    }
   ],
   "source": [
    "replacedCol = df.D.str.replace('(\\(\\d\\d\\d\\d\\))', 'HELLO')\n",
    "replacedCol"
   ]
  },
  {
   "cell_type": "code",
   "execution_count": 8,
   "metadata": {},
   "outputs": [
    {
     "data": {
      "text/html": [
       "<div>\n",
       "<style scoped>\n",
       "    .dataframe tbody tr th:only-of-type {\n",
       "        vertical-align: middle;\n",
       "    }\n",
       "\n",
       "    .dataframe tbody tr th {\n",
       "        vertical-align: top;\n",
       "    }\n",
       "\n",
       "    .dataframe thead th {\n",
       "        text-align: right;\n",
       "    }\n",
       "</style>\n",
       "<table border=\"1\" class=\"dataframe\">\n",
       "  <thead>\n",
       "    <tr style=\"text-align: right;\">\n",
       "      <th></th>\n",
       "      <th>A</th>\n",
       "      <th>B</th>\n",
       "      <th>C</th>\n",
       "      <th>D</th>\n",
       "      <th>E</th>\n",
       "      <th>year</th>\n",
       "    </tr>\n",
       "  </thead>\n",
       "  <tbody>\n",
       "    <tr>\n",
       "      <th>0</th>\n",
       "      <td>1.0</td>\n",
       "      <td>[x, y]</td>\n",
       "      <td>3</td>\n",
       "      <td>test HELLO</td>\n",
       "      <td>foo</td>\n",
       "      <td>2018</td>\n",
       "    </tr>\n",
       "    <tr>\n",
       "      <th>1</th>\n",
       "      <td>1.0</td>\n",
       "      <td>[x, z]</td>\n",
       "      <td>3</td>\n",
       "      <td>train HELLO</td>\n",
       "      <td>foo</td>\n",
       "      <td>2019</td>\n",
       "    </tr>\n",
       "    <tr>\n",
       "      <th>2</th>\n",
       "      <td>1.0</td>\n",
       "      <td>[x, z, y]</td>\n",
       "      <td>3</td>\n",
       "      <td>test HELLO</td>\n",
       "      <td>foo</td>\n",
       "      <td>2018</td>\n",
       "    </tr>\n",
       "  </tbody>\n",
       "</table>\n",
       "</div>"
      ],
      "text/plain": [
       "     A          B  C            D    E  year\n",
       "0  1.0     [x, y]  3   test HELLO  foo  2018\n",
       "1  1.0     [x, z]  3  train HELLO  foo  2019\n",
       "2  1.0  [x, z, y]  3   test HELLO  foo  2018"
      ]
     },
     "execution_count": 8,
     "metadata": {},
     "output_type": "execute_result"
    }
   ],
   "source": [
    "df['D'] = replacedCol\n",
    "df"
   ]
  },
  {
   "cell_type": "code",
   "execution_count": 9,
   "metadata": {},
   "outputs": [
    {
     "data": {
      "text/html": [
       "<div>\n",
       "<style scoped>\n",
       "    .dataframe tbody tr th:only-of-type {\n",
       "        vertical-align: middle;\n",
       "    }\n",
       "\n",
       "    .dataframe tbody tr th {\n",
       "        vertical-align: top;\n",
       "    }\n",
       "\n",
       "    .dataframe thead th {\n",
       "        text-align: right;\n",
       "    }\n",
       "</style>\n",
       "<table border=\"1\" class=\"dataframe\">\n",
       "  <thead>\n",
       "    <tr style=\"text-align: right;\">\n",
       "      <th></th>\n",
       "      <th>A</th>\n",
       "      <th>B</th>\n",
       "      <th>C</th>\n",
       "      <th>D</th>\n",
       "      <th>E</th>\n",
       "      <th>year</th>\n",
       "      <th>New Col</th>\n",
       "    </tr>\n",
       "  </thead>\n",
       "  <tbody>\n",
       "    <tr>\n",
       "      <th>0</th>\n",
       "      <td>1.0</td>\n",
       "      <td>[x, y]</td>\n",
       "      <td>3</td>\n",
       "      <td>test HELLO</td>\n",
       "      <td>foo</td>\n",
       "      <td>2018</td>\n",
       "      <td>Got it!</td>\n",
       "    </tr>\n",
       "    <tr>\n",
       "      <th>1</th>\n",
       "      <td>1.0</td>\n",
       "      <td>[x, z]</td>\n",
       "      <td>3</td>\n",
       "      <td>train HELLO</td>\n",
       "      <td>foo</td>\n",
       "      <td>2019</td>\n",
       "      <td>NaN</td>\n",
       "    </tr>\n",
       "    <tr>\n",
       "      <th>2</th>\n",
       "      <td>1.0</td>\n",
       "      <td>[x, z, y]</td>\n",
       "      <td>3</td>\n",
       "      <td>test HELLO</td>\n",
       "      <td>foo</td>\n",
       "      <td>2018</td>\n",
       "      <td>NaN</td>\n",
       "    </tr>\n",
       "  </tbody>\n",
       "</table>\n",
       "</div>"
      ],
      "text/plain": [
       "     A          B  C            D    E  year  New Col\n",
       "0  1.0     [x, y]  3   test HELLO  foo  2018  Got it!\n",
       "1  1.0     [x, z]  3  train HELLO  foo  2019      NaN\n",
       "2  1.0  [x, z, y]  3   test HELLO  foo  2018      NaN"
      ]
     },
     "execution_count": 9,
     "metadata": {},
     "output_type": "execute_result"
    }
   ],
   "source": [
    "df.at[0, 'New Col'] = 'Got it!' # adds new column, fills in value just at given row\n",
    "df"
   ]
  },
  {
   "cell_type": "code",
   "execution_count": 10,
   "metadata": {},
   "outputs": [
    {
     "name": "stdout",
     "output_type": "stream",
     "text": [
      "Index: 0\n",
      "\n",
      "A                   1\n",
      "B              [x, y]\n",
      "C                   3\n",
      "D          test HELLO\n",
      "E                 foo\n",
      "year             2018\n",
      "New Col       Got it!\n",
      "Name: 0, dtype: object\n",
      "***********\n",
      "Index: 1\n",
      "\n",
      "A                    1\n",
      "B               [x, z]\n",
      "C                    3\n",
      "D          train HELLO\n",
      "E                  foo\n",
      "year              2019\n",
      "New Col            NaN\n",
      "Name: 1, dtype: object\n",
      "***********\n",
      "Index: 2\n",
      "\n",
      "A                   1\n",
      "B           [x, z, y]\n",
      "C                   3\n",
      "D          test HELLO\n",
      "E                 foo\n",
      "year             2018\n",
      "New Col           NaN\n",
      "Name: 2, dtype: object\n",
      "***********\n"
     ]
    }
   ],
   "source": [
    "# A way to loop through all rows of the data frame\n",
    "for index, row in df.iterrows():\n",
    "    print(\"Index:\", index)\n",
    "    print()\n",
    "    print(row)\n",
    "    print(\"***********\")"
   ]
  },
  {
   "cell_type": "code",
   "execution_count": 11,
   "metadata": {},
   "outputs": [
    {
     "data": {
      "text/html": [
       "<div>\n",
       "<style scoped>\n",
       "    .dataframe tbody tr th:only-of-type {\n",
       "        vertical-align: middle;\n",
       "    }\n",
       "\n",
       "    .dataframe tbody tr th {\n",
       "        vertical-align: top;\n",
       "    }\n",
       "\n",
       "    .dataframe thead th {\n",
       "        text-align: right;\n",
       "    }\n",
       "</style>\n",
       "<table border=\"1\" class=\"dataframe\">\n",
       "  <thead>\n",
       "    <tr style=\"text-align: right;\">\n",
       "      <th></th>\n",
       "      <th>A</th>\n",
       "      <th>B</th>\n",
       "      <th>C</th>\n",
       "      <th>D</th>\n",
       "      <th>E</th>\n",
       "      <th>year</th>\n",
       "      <th>New Col</th>\n",
       "      <th>x</th>\n",
       "      <th>y</th>\n",
       "      <th>z</th>\n",
       "    </tr>\n",
       "  </thead>\n",
       "  <tbody>\n",
       "    <tr>\n",
       "      <th>0</th>\n",
       "      <td>1.0</td>\n",
       "      <td>[x, y]</td>\n",
       "      <td>3</td>\n",
       "      <td>test HELLO</td>\n",
       "      <td>foo</td>\n",
       "      <td>2018</td>\n",
       "      <td>Got it!</td>\n",
       "      <td>YES!</td>\n",
       "      <td>YES!</td>\n",
       "      <td>NaN</td>\n",
       "    </tr>\n",
       "    <tr>\n",
       "      <th>1</th>\n",
       "      <td>1.0</td>\n",
       "      <td>[x, z]</td>\n",
       "      <td>3</td>\n",
       "      <td>train HELLO</td>\n",
       "      <td>foo</td>\n",
       "      <td>2019</td>\n",
       "      <td>NaN</td>\n",
       "      <td>YES!</td>\n",
       "      <td>NaN</td>\n",
       "      <td>YES!</td>\n",
       "    </tr>\n",
       "    <tr>\n",
       "      <th>2</th>\n",
       "      <td>1.0</td>\n",
       "      <td>[x, z, y]</td>\n",
       "      <td>3</td>\n",
       "      <td>test HELLO</td>\n",
       "      <td>foo</td>\n",
       "      <td>2018</td>\n",
       "      <td>NaN</td>\n",
       "      <td>YES!</td>\n",
       "      <td>YES!</td>\n",
       "      <td>YES!</td>\n",
       "    </tr>\n",
       "  </tbody>\n",
       "</table>\n",
       "</div>"
      ],
      "text/plain": [
       "     A          B  C            D    E  year  New Col     x     y     z\n",
       "0  1.0     [x, y]  3   test HELLO  foo  2018  Got it!  YES!  YES!   NaN\n",
       "1  1.0     [x, z]  3  train HELLO  foo  2019      NaN  YES!   NaN  YES!\n",
       "2  1.0  [x, z, y]  3   test HELLO  foo  2018      NaN  YES!  YES!  YES!"
      ]
     },
     "execution_count": 11,
     "metadata": {},
     "output_type": "execute_result"
    }
   ],
   "source": [
    "for index, row in df.iterrows():\n",
    "    for ch in row['B']:\n",
    "        df.at[index, ch] = \"YES!\" # adds new column \n",
    "        \n",
    "df"
   ]
  },
  {
   "cell_type": "code",
   "execution_count": 12,
   "metadata": {},
   "outputs": [
    {
     "data": {
      "text/html": [
       "<div>\n",
       "<style scoped>\n",
       "    .dataframe tbody tr th:only-of-type {\n",
       "        vertical-align: middle;\n",
       "    }\n",
       "\n",
       "    .dataframe tbody tr th {\n",
       "        vertical-align: top;\n",
       "    }\n",
       "\n",
       "    .dataframe thead th {\n",
       "        text-align: right;\n",
       "    }\n",
       "</style>\n",
       "<table border=\"1\" class=\"dataframe\">\n",
       "  <thead>\n",
       "    <tr style=\"text-align: right;\">\n",
       "      <th></th>\n",
       "      <th>A</th>\n",
       "      <th>B</th>\n",
       "      <th>C</th>\n",
       "      <th>D</th>\n",
       "      <th>E</th>\n",
       "      <th>year</th>\n",
       "      <th>New Col</th>\n",
       "      <th>x</th>\n",
       "      <th>y</th>\n",
       "      <th>z</th>\n",
       "    </tr>\n",
       "  </thead>\n",
       "  <tbody>\n",
       "    <tr>\n",
       "      <th>0</th>\n",
       "      <td>1.0</td>\n",
       "      <td>[x, y]</td>\n",
       "      <td>3</td>\n",
       "      <td>test HELLO</td>\n",
       "      <td>foo</td>\n",
       "      <td>2018</td>\n",
       "      <td>Got it!</td>\n",
       "      <td>YES!</td>\n",
       "      <td>YES!</td>\n",
       "      <td>NaN</td>\n",
       "    </tr>\n",
       "    <tr>\n",
       "      <th>1</th>\n",
       "      <td>1.0</td>\n",
       "      <td>[x, z]</td>\n",
       "      <td>3</td>\n",
       "      <td>train HELLO</td>\n",
       "      <td>foo</td>\n",
       "      <td>2019</td>\n",
       "      <td>NaN</td>\n",
       "      <td>YES!</td>\n",
       "      <td>NaN</td>\n",
       "      <td>YES!</td>\n",
       "    </tr>\n",
       "    <tr>\n",
       "      <th>2</th>\n",
       "      <td>1.0</td>\n",
       "      <td>[x, z, y]</td>\n",
       "      <td>3</td>\n",
       "      <td>test HELLO</td>\n",
       "      <td>foo</td>\n",
       "      <td>2018</td>\n",
       "      <td>NaN</td>\n",
       "      <td>YES!</td>\n",
       "      <td>YES!</td>\n",
       "      <td>YES!</td>\n",
       "    </tr>\n",
       "  </tbody>\n",
       "</table>\n",
       "</div>"
      ],
      "text/plain": [
       "     A          B  C            D    E  year  New Col     x     y     z\n",
       "0  1.0     [x, y]  3   test HELLO  foo  2018  Got it!  YES!  YES!   NaN\n",
       "1  1.0     [x, z]  3  train HELLO  foo  2019      NaN  YES!   NaN  YES!\n",
       "2  1.0  [x, z, y]  3   test HELLO  foo  2018      NaN  YES!  YES!  YES!"
      ]
     },
     "execution_count": 12,
     "metadata": {},
     "output_type": "execute_result"
    }
   ],
   "source": [
    "newDF = df.fillna(\"NOPE!\") # fill null values and RETURN it\n",
    "df"
   ]
  },
  {
   "cell_type": "code",
   "execution_count": 13,
   "metadata": {},
   "outputs": [
    {
     "data": {
      "text/html": [
       "<div>\n",
       "<style scoped>\n",
       "    .dataframe tbody tr th:only-of-type {\n",
       "        vertical-align: middle;\n",
       "    }\n",
       "\n",
       "    .dataframe tbody tr th {\n",
       "        vertical-align: top;\n",
       "    }\n",
       "\n",
       "    .dataframe thead th {\n",
       "        text-align: right;\n",
       "    }\n",
       "</style>\n",
       "<table border=\"1\" class=\"dataframe\">\n",
       "  <thead>\n",
       "    <tr style=\"text-align: right;\">\n",
       "      <th></th>\n",
       "      <th>A</th>\n",
       "      <th>B</th>\n",
       "      <th>C</th>\n",
       "      <th>D</th>\n",
       "      <th>E</th>\n",
       "      <th>year</th>\n",
       "      <th>New Col</th>\n",
       "      <th>x</th>\n",
       "      <th>y</th>\n",
       "      <th>z</th>\n",
       "    </tr>\n",
       "  </thead>\n",
       "  <tbody>\n",
       "    <tr>\n",
       "      <th>0</th>\n",
       "      <td>1.0</td>\n",
       "      <td>[x, y]</td>\n",
       "      <td>3</td>\n",
       "      <td>test HELLO</td>\n",
       "      <td>foo</td>\n",
       "      <td>2018</td>\n",
       "      <td>Got it!</td>\n",
       "      <td>YES!</td>\n",
       "      <td>YES!</td>\n",
       "      <td>NOPE!</td>\n",
       "    </tr>\n",
       "    <tr>\n",
       "      <th>1</th>\n",
       "      <td>1.0</td>\n",
       "      <td>[x, z]</td>\n",
       "      <td>3</td>\n",
       "      <td>train HELLO</td>\n",
       "      <td>foo</td>\n",
       "      <td>2019</td>\n",
       "      <td>NOPE!</td>\n",
       "      <td>YES!</td>\n",
       "      <td>NOPE!</td>\n",
       "      <td>YES!</td>\n",
       "    </tr>\n",
       "    <tr>\n",
       "      <th>2</th>\n",
       "      <td>1.0</td>\n",
       "      <td>[x, z, y]</td>\n",
       "      <td>3</td>\n",
       "      <td>test HELLO</td>\n",
       "      <td>foo</td>\n",
       "      <td>2018</td>\n",
       "      <td>NOPE!</td>\n",
       "      <td>YES!</td>\n",
       "      <td>YES!</td>\n",
       "      <td>YES!</td>\n",
       "    </tr>\n",
       "  </tbody>\n",
       "</table>\n",
       "</div>"
      ],
      "text/plain": [
       "     A          B  C            D    E  year  New Col     x      y      z\n",
       "0  1.0     [x, y]  3   test HELLO  foo  2018  Got it!  YES!   YES!  NOPE!\n",
       "1  1.0     [x, z]  3  train HELLO  foo  2019    NOPE!  YES!  NOPE!   YES!\n",
       "2  1.0  [x, z, y]  3   test HELLO  foo  2018    NOPE!  YES!   YES!   YES!"
      ]
     },
     "execution_count": 13,
     "metadata": {},
     "output_type": "execute_result"
    }
   ],
   "source": [
    "# With values filled for null values.\n",
    "# Shows \"ONE HOT ENCODING TECHNIQUE\" \n",
    "newDF "
   ]
  },
  {
   "cell_type": "code",
   "execution_count": 14,
   "metadata": {},
   "outputs": [
    {
     "data": {
      "text/html": [
       "<div>\n",
       "<style scoped>\n",
       "    .dataframe tbody tr th:only-of-type {\n",
       "        vertical-align: middle;\n",
       "    }\n",
       "\n",
       "    .dataframe tbody tr th {\n",
       "        vertical-align: top;\n",
       "    }\n",
       "\n",
       "    .dataframe thead th {\n",
       "        text-align: right;\n",
       "    }\n",
       "</style>\n",
       "<table border=\"1\" class=\"dataframe\">\n",
       "  <thead>\n",
       "    <tr style=\"text-align: right;\">\n",
       "      <th></th>\n",
       "      <th>A</th>\n",
       "      <th>B</th>\n",
       "      <th>C</th>\n",
       "      <th>D</th>\n",
       "      <th>E</th>\n",
       "      <th>year</th>\n",
       "      <th>New Col</th>\n",
       "      <th>x</th>\n",
       "      <th>y</th>\n",
       "      <th>z</th>\n",
       "    </tr>\n",
       "  </thead>\n",
       "  <tbody>\n",
       "    <tr>\n",
       "      <th>0</th>\n",
       "      <td>1.0</td>\n",
       "      <td>[x, y]</td>\n",
       "      <td>3</td>\n",
       "      <td>test HELLO</td>\n",
       "      <td>foo</td>\n",
       "      <td>2018</td>\n",
       "      <td>Got it!</td>\n",
       "      <td>YES!</td>\n",
       "      <td>YES!</td>\n",
       "      <td>NOPE!</td>\n",
       "    </tr>\n",
       "    <tr>\n",
       "      <th>1</th>\n",
       "      <td>1.0</td>\n",
       "      <td>[x, z]</td>\n",
       "      <td>3</td>\n",
       "      <td>train HELLO</td>\n",
       "      <td>foo</td>\n",
       "      <td>2019</td>\n",
       "      <td>NOPE!</td>\n",
       "      <td>YES!</td>\n",
       "      <td>NOPE!</td>\n",
       "      <td>YES!</td>\n",
       "    </tr>\n",
       "    <tr>\n",
       "      <th>2</th>\n",
       "      <td>1.0</td>\n",
       "      <td>[x, z, y]</td>\n",
       "      <td>3</td>\n",
       "      <td>test HELLO</td>\n",
       "      <td>foo</td>\n",
       "      <td>2018</td>\n",
       "      <td>NOPE!</td>\n",
       "      <td>YES!</td>\n",
       "      <td>YES!</td>\n",
       "      <td>YES!</td>\n",
       "    </tr>\n",
       "  </tbody>\n",
       "</table>\n",
       "</div>"
      ],
      "text/plain": [
       "     A          B  C            D    E  year  New Col     x      y      z\n",
       "0  1.0     [x, y]  3   test HELLO  foo  2018  Got it!  YES!   YES!  NOPE!\n",
       "1  1.0     [x, z]  3  train HELLO  foo  2019    NOPE!  YES!  NOPE!   YES!\n",
       "2  1.0  [x, z, y]  3   test HELLO  foo  2018    NOPE!  YES!   YES!   YES!"
      ]
     },
     "execution_count": 14,
     "metadata": {},
     "output_type": "execute_result"
    }
   ],
   "source": [
    "newDF.drop('z',1) # without 1 get error..?\n",
    "newDF"
   ]
  },
  {
   "cell_type": "code",
   "execution_count": 15,
   "metadata": {},
   "outputs": [
    {
     "data": {
      "text/html": [
       "<div>\n",
       "<style scoped>\n",
       "    .dataframe tbody tr th:only-of-type {\n",
       "        vertical-align: middle;\n",
       "    }\n",
       "\n",
       "    .dataframe tbody tr th {\n",
       "        vertical-align: top;\n",
       "    }\n",
       "\n",
       "    .dataframe thead th {\n",
       "        text-align: right;\n",
       "    }\n",
       "</style>\n",
       "<table border=\"1\" class=\"dataframe\">\n",
       "  <thead>\n",
       "    <tr style=\"text-align: right;\">\n",
       "      <th></th>\n",
       "      <th>A</th>\n",
       "      <th>x</th>\n",
       "      <th>year</th>\n",
       "      <th>D</th>\n",
       "    </tr>\n",
       "  </thead>\n",
       "  <tbody>\n",
       "    <tr>\n",
       "      <th>0</th>\n",
       "      <td>YES!</td>\n",
       "      <td>5</td>\n",
       "      <td>NaN</td>\n",
       "      <td>NaN</td>\n",
       "    </tr>\n",
       "    <tr>\n",
       "      <th>1</th>\n",
       "      <td>Fun</td>\n",
       "      <td>NaN</td>\n",
       "      <td>2021.0</td>\n",
       "      <td>SPLIT</td>\n",
       "    </tr>\n",
       "    <tr>\n",
       "      <th>2</th>\n",
       "      <td>YES!</td>\n",
       "      <td>NaN</td>\n",
       "      <td>2021.0</td>\n",
       "      <td>NaN</td>\n",
       "    </tr>\n",
       "  </tbody>\n",
       "</table>\n",
       "</div>"
      ],
      "text/plain": [
       "      A    x    year      D\n",
       "0  YES!    5     NaN    NaN\n",
       "1   Fun  NaN  2021.0  SPLIT\n",
       "2  YES!  NaN  2021.0    NaN"
      ]
     },
     "execution_count": 15,
     "metadata": {},
     "output_type": "execute_result"
    }
   ],
   "source": [
    "newRows = [\n",
    "            {'A': 'YES!', 'x':'5'},\n",
    "            {'A':'Fun', 'year':2021, 'D': 'SPLIT'},\n",
    "            {'A':'YES!', 'year':2021 }\n",
    "         ] \n",
    "rowsAsDF = pd.DataFrame(newRows)\n",
    "rowsAsDF"
   ]
  },
  {
   "cell_type": "code",
   "execution_count": 16,
   "metadata": {},
   "outputs": [
    {
     "data": {
      "text/plain": [
       "['YES!', 'Fun', 'YES!']"
      ]
     },
     "execution_count": 16,
     "metadata": {},
     "output_type": "execute_result"
    }
   ],
   "source": [
    "aList = rowsAsDF['A'].tolist() # converts column to list object\n",
    "aList"
   ]
  },
  {
   "cell_type": "code",
   "execution_count": 17,
   "metadata": {},
   "outputs": [
    {
     "data": {
      "text/plain": [
       "0     True\n",
       "1    False\n",
       "2     True\n",
       "Name: y, dtype: bool"
      ]
     },
     "execution_count": 17,
     "metadata": {},
     "output_type": "execute_result"
    }
   ],
   "source": [
    "msk = df['y'].isin(aList)\n",
    "msk"
   ]
  },
  {
   "cell_type": "code",
   "execution_count": 18,
   "metadata": {},
   "outputs": [
    {
     "data": {
      "text/html": [
       "<div>\n",
       "<style scoped>\n",
       "    .dataframe tbody tr th:only-of-type {\n",
       "        vertical-align: middle;\n",
       "    }\n",
       "\n",
       "    .dataframe tbody tr th {\n",
       "        vertical-align: top;\n",
       "    }\n",
       "\n",
       "    .dataframe thead th {\n",
       "        text-align: right;\n",
       "    }\n",
       "</style>\n",
       "<table border=\"1\" class=\"dataframe\">\n",
       "  <thead>\n",
       "    <tr style=\"text-align: right;\">\n",
       "      <th></th>\n",
       "      <th>A</th>\n",
       "      <th>B</th>\n",
       "      <th>C</th>\n",
       "      <th>D</th>\n",
       "      <th>E</th>\n",
       "      <th>year</th>\n",
       "      <th>New Col</th>\n",
       "      <th>x</th>\n",
       "      <th>y</th>\n",
       "      <th>z</th>\n",
       "    </tr>\n",
       "  </thead>\n",
       "  <tbody>\n",
       "    <tr>\n",
       "      <th>0</th>\n",
       "      <td>1.0</td>\n",
       "      <td>[x, y]</td>\n",
       "      <td>3</td>\n",
       "      <td>test HELLO</td>\n",
       "      <td>foo</td>\n",
       "      <td>2018</td>\n",
       "      <td>Got it!</td>\n",
       "      <td>YES!</td>\n",
       "      <td>YES!</td>\n",
       "      <td>NaN</td>\n",
       "    </tr>\n",
       "    <tr>\n",
       "      <th>2</th>\n",
       "      <td>1.0</td>\n",
       "      <td>[x, z, y]</td>\n",
       "      <td>3</td>\n",
       "      <td>test HELLO</td>\n",
       "      <td>foo</td>\n",
       "      <td>2018</td>\n",
       "      <td>NaN</td>\n",
       "      <td>YES!</td>\n",
       "      <td>YES!</td>\n",
       "      <td>YES!</td>\n",
       "    </tr>\n",
       "  </tbody>\n",
       "</table>\n",
       "</div>"
      ],
      "text/plain": [
       "     A          B  C           D    E  year  New Col     x     y     z\n",
       "0  1.0     [x, y]  3  test HELLO  foo  2018  Got it!  YES!  YES!   NaN\n",
       "2  1.0  [x, z, y]  3  test HELLO  foo  2018      NaN  YES!  YES!  YES!"
      ]
     },
     "execution_count": 18,
     "metadata": {},
     "output_type": "execute_result"
    }
   ],
   "source": [
    "selectedRows  = df[msk] # get rows from list of booleans\n",
    "selectedRows"
   ]
  },
  {
   "cell_type": "code",
   "execution_count": 19,
   "metadata": {},
   "outputs": [
    {
     "data": {
      "text/html": [
       "<div>\n",
       "<style scoped>\n",
       "    .dataframe tbody tr th:only-of-type {\n",
       "        vertical-align: middle;\n",
       "    }\n",
       "\n",
       "    .dataframe tbody tr th {\n",
       "        vertical-align: top;\n",
       "    }\n",
       "\n",
       "    .dataframe thead th {\n",
       "        text-align: right;\n",
       "    }\n",
       "</style>\n",
       "<table border=\"1\" class=\"dataframe\">\n",
       "  <thead>\n",
       "    <tr style=\"text-align: right;\">\n",
       "      <th></th>\n",
       "      <th>A</th>\n",
       "      <th>x</th>\n",
       "      <th>year</th>\n",
       "      <th>D</th>\n",
       "    </tr>\n",
       "  </thead>\n",
       "  <tbody>\n",
       "    <tr>\n",
       "      <th>0</th>\n",
       "      <td>YES!</td>\n",
       "      <td>5</td>\n",
       "      <td>NaN</td>\n",
       "      <td>NaN</td>\n",
       "    </tr>\n",
       "    <tr>\n",
       "      <th>1</th>\n",
       "      <td>Fun</td>\n",
       "      <td>NaN</td>\n",
       "      <td>2021.0</td>\n",
       "      <td>SPLIT</td>\n",
       "    </tr>\n",
       "    <tr>\n",
       "      <th>2</th>\n",
       "      <td>YES!</td>\n",
       "      <td>NaN</td>\n",
       "      <td>2021.0</td>\n",
       "      <td>NaN</td>\n",
       "    </tr>\n",
       "  </tbody>\n",
       "</table>\n",
       "</div>"
      ],
      "text/plain": [
       "      A    x    year      D\n",
       "0  YES!    5     NaN    NaN\n",
       "1   Fun  NaN  2021.0  SPLIT\n",
       "2  YES!  NaN  2021.0    NaN"
      ]
     },
     "execution_count": 19,
     "metadata": {},
     "output_type": "execute_result"
    }
   ],
   "source": [
    "rowsAsDF"
   ]
  },
  {
   "cell_type": "code",
   "execution_count": 20,
   "metadata": {},
   "outputs": [],
   "source": [
    "# TO BE CONTINUED ...."
   ]
  },
  {
   "cell_type": "code",
   "execution_count": null,
   "metadata": {},
   "outputs": [],
   "source": []
  }
 ],
 "metadata": {
  "kernelspec": {
   "display_name": "Python 3",
   "language": "python",
   "name": "python3"
  },
  "language_info": {
   "codemirror_mode": {
    "name": "ipython",
    "version": 3
   },
   "file_extension": ".py",
   "mimetype": "text/x-python",
   "name": "python",
   "nbconvert_exporter": "python",
   "pygments_lexer": "ipython3",
   "version": "3.8.5"
  }
 },
 "nbformat": 4,
 "nbformat_minor": 4
}
